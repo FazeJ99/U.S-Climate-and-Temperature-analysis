{
 "cells": [
  {
   "cell_type": "code",
   "execution_count": 2,
   "metadata": {},
   "outputs": [],
   "source": [
    "import pandas as pd"
   ]
  },
  {
   "cell_type": "code",
   "execution_count": 3,
   "metadata": {},
   "outputs": [],
   "source": [
    "df = pd.read_csv(r'C:\\Users\\steph\\Desktop\\ICDS Final\\Average Temperature 1900-2023(1).csv')"
   ]
  },
  {
   "cell_type": "code",
   "execution_count": 4,
   "metadata": {},
   "outputs": [],
   "source": [
    "import cryptography"
   ]
  },
  {
   "cell_type": "code",
   "execution_count": 7,
   "metadata": {},
   "outputs": [
    {
     "name": "stdout",
     "output_type": "stream",
     "text": [
      "Encrypted: b'gAAAAABni2e2Ct2Al8K3jpCeghkfxyYNNkd86pUEOuYjSXFwzOJ5pAvorxT2YtXgBr9S5aYghlwHvLb2kzCkp9McuureVjyiekriGUwquHDtIaEKke2CYiU='\n",
      "Decrypted: Sensitive data to encrypt\n"
     ]
    }
   ],
   "source": [
    "from cryptography.fernet import Fernet\n",
    "\n",
    "# Generate a key\n",
    "key = Fernet.generate_key()\n",
    "cipher = Fernet(key)\n",
    "\n",
    "# Encrypting data\n",
    "df = pd.read_csv('Average Temperature 1900-2023(1).csv')\n",
    "encrypted_data = cipher.encrypt(df)\n",
    "\n",
    "# Store the encrypted data securely, and keep the key safe\n",
    "print(\"Encrypted:\", encrypted_data)\n",
    "\n",
    "# Decrypting data\n",
    "decrypted_data = cipher.decrypt(encrypted_data)\n",
    "print(\"Decrypted:\", decrypted_data.decode())"
   ]
  }
 ],
 "metadata": {
  "kernelspec": {
   "display_name": "Python 3",
   "language": "python",
   "name": "python3"
  },
  "language_info": {
   "codemirror_mode": {
    "name": "ipython",
    "version": 3
   },
   "file_extension": ".py",
   "mimetype": "text/x-python",
   "name": "python",
   "nbconvert_exporter": "python",
   "pygments_lexer": "ipython3",
   "version": "3.12.8"
  }
 },
 "nbformat": 4,
 "nbformat_minor": 2
}
